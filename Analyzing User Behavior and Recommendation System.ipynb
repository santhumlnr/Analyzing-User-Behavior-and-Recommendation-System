{
 "cells": [
  {
   "cell_type": "code",
   "execution_count": 2,
   "id": "81e7cf63",
   "metadata": {},
   "outputs": [],
   "source": [
    "import pandas as pd\n",
    "import numpy as np\n",
    "from sklearn.metrics.pairwise import cosine_similarity\n",
    "from sklearn.preprocessing import MinMaxScaler\n"
   ]
  },
  {
   "cell_type": "code",
   "execution_count": 7,
   "id": "97ea33e3",
   "metadata": {},
   "outputs": [],
   "source": [
    "data={\n",
    "    'user_id' : [1, 1, 2, 2, 3, 3, 4, 4],\n",
    "    'feature_id': [101, 102, 101, 103, 102,103, 101, 104],\n",
    "    'interaction':[5,3,4,2,3,5,4,2]\n",
    "    \n",
    "}\n",
    "\n",
    "df = pd.DataFrame(data)"
   ]
  },
  {
   "cell_type": "code",
   "execution_count": 8,
   "id": "ce470426",
   "metadata": {},
   "outputs": [
    {
     "name": "stdout",
     "output_type": "stream",
     "text": [
      "sample Data:\n",
      "    user_id  feature_id  interaction\n",
      "0        1         101            5\n",
      "1        1         102            3\n",
      "2        2         101            4\n",
      "3        2         103            2\n",
      "4        3         102            3\n",
      "5        3         103            5\n",
      "6        4         101            4\n",
      "7        4         104            2\n"
     ]
    }
   ],
   "source": [
    "print(\"sample Data:\\n\", df)"
   ]
  },
  {
   "cell_type": "code",
   "execution_count": 9,
   "id": "2008c215",
   "metadata": {},
   "outputs": [
    {
     "name": "stdout",
     "output_type": "stream",
     "text": [
      "\n",
      "User  Similarty matrix:n feature_id  101  102  103  104\n",
      "user_id                       \n",
      "1             5    3    0    0\n",
      "2             4    0    2    0\n",
      "3             0    3    5    0\n",
      "4             4    0    0    2\n"
     ]
    }
   ],
   "source": [
    "user_feature_matrix = df.pivot_table(index= 'user_id', columns='feature_id',values = 'interaction', fill_value = 0 )\n",
    "print(\"\\nUser  Similarty matrix:n\", user_feature_matrix)"
   ]
  },
  {
   "cell_type": "code",
   "execution_count": 14,
   "id": "2886f3c5",
   "metadata": {},
   "outputs": [
    {
     "name": "stdout",
     "output_type": "stream",
     "text": [
      "\n",
      "User similarty Matrix:\n",
      " [[1.         0.76696499 0.26470588 0.76696499]\n",
      " [0.76696499 1.         0.38348249 0.8       ]\n",
      " [0.26470588 0.38348249 1.         0.        ]\n",
      " [0.76696499 0.8        0.         1.        ]]\n"
     ]
    }
   ],
   "source": [
    "similarity_matrix = cosine_similarity(user_feature_matrix)\n",
    "print(\"\\nUser similarty Matrix:\\n\", similarity_matrix)"
   ]
  },
  {
   "cell_type": "code",
   "execution_count": 23,
   "id": "5715fccb",
   "metadata": {},
   "outputs": [],
   "source": [
    "scaler = MinMaxScaler()\n",
    "normalized_matrix= scaler.fit_transform(user_feature_matrix)"
   ]
  },
  {
   "cell_type": "code",
   "execution_count": 24,
   "id": "09c26212",
   "metadata": {},
   "outputs": [],
   "source": [
    "user_index = 0\n",
    "similarity_scores = similarity_matrix[user_index]"
   ]
  },
  {
   "cell_type": "code",
   "execution_count": 25,
   "id": "cdafded0",
   "metadata": {},
   "outputs": [],
   "source": [
    "recommendation_scores = np.dot(similarity_scores, normalized_matrix)\n",
    "recommendation_df= pd.DataFrame({\n",
    "    'feature_id':  user_feature_matrix.columns,\n",
    "    'score': recommendation_scores\n",
    "}).sort_values(by = 'score', ascending = False)"
   ]
  },
  {
   "cell_type": "code",
   "execution_count": 27,
   "id": "a2cd7675",
   "metadata": {},
   "outputs": [
    {
     "name": "stdout",
     "output_type": "stream",
     "text": [
      "\n",
      "Recommended Features for User 1:\n",
      "    feature_id     score\n",
      "0         101  2.227144\n",
      "1         102  1.264706\n",
      "3         104  0.766965\n",
      "2         103  0.571492\n"
     ]
    }
   ],
   "source": [
    "print(\"\\nRecommended Features for User 1:\\n\", recommendation_df)"
   ]
  },
  {
   "cell_type": "code",
   "execution_count": 29,
   "id": "17aba71b",
   "metadata": {},
   "outputs": [
    {
     "data": {
      "image/png": "[encoded data removed]",
      "text/plain": [
       "<Figure size 800x600 with 2 Axes>"
      ]
     },
     "metadata": {},
     "output_type": "display_data"
    }
   ],
   "source": [
    "try:\n",
    "    import matplotlib.pyplot as plt\n",
    "    import seaborn as sns\n",
    "\n",
    "    plt.figure(figsize=(8, 6))\n",
    "    sns.heatmap(similarity_matrix, annot=True, cmap=\"YlGnBu\", xticklabels=user_feature_matrix.index, yticklabels=user_feature_matrix.index)\n",
    "    plt.title(\"User Similarity Heatmap\")\n",
    "    plt.show()\n",
    "except ImportError:\n",
    "    print(\"\\nInstall matplotlib and seaborn for visualization.\")\n",
    "\n"
   ]
  },
  {
   "cell_type": "code",
   "execution_count": null,
   "id": "112d75c9",
   "metadata": {},
   "outputs": [],
   "source": []
  }
 ],
 "metadata": {
  "kernelspec": {
   "display_name": "Python 3 (ipykernel)",
   "language": "python",
   "name": "python3"
  },
  "language_info": {
   "codemirror_mode": {
    "name": "ipython",
    "version": 3
   },
   "file_extension": ".py",
   "mimetype": "text/x-python",
   "name": "python",
   "nbconvert_exporter": "python",
   "pygments_lexer": "ipython3",
   "version": "3.11.5"
  }
 },
 "nbformat": 4,
 "nbformat_minor": 5
}
